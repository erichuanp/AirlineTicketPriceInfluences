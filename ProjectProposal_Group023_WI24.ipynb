{
 "cells": [
  {
   "cell_type": "markdown",
   "metadata": {},
   "source": [
    "# COGS 108 - Project Proposal"
   ]
  },
  {
   "cell_type": "markdown",
   "metadata": {},
   "source": [
    "# Names\n",
    "\n",
    "- Kunnam Kim \n",
    "- Maya Buchwald\n",
    "- Risa Sundu\n",
    "- Jaeven Tanuwidjaja\n",
    "- Chuan Peng"
   ]
  },
  {
   "cell_type": "markdown",
   "metadata": {},
   "source": [
    "# Research Question"
   ]
  },
  {
   "cell_type": "markdown",
   "metadata": {},
   "source": [
    "-  Is there a relationship between precipitation levels and commercial aircraft fuel consumption in the last five years?\n",
    "-  Is there a relationship between flight fuel efficiency and ticket price on commercial aircraft?"
   ]
  },
  {
   "cell_type": "markdown",
   "metadata": {},
   "source": [
    "## Background and Prior Work"
   ]
  },
  {
   "cell_type": "markdown",
   "metadata": {},
   "source": [
    "In a globalizing world, air travel has become increasingly important not only for economic purposes, but for individual purposes as well. However, since the early 2000s, fuel prices have continued to increase, making it ever more important to optimize fuel efficiency. Consumers are increasingly concerned about their carbon footprint when they fly, and some airlines are offering dubious, albeit optional, carbon offset add-ons to their tickets.<a name=\"cite_ref-2\"></a>[<sup>2</sup>](#cite_note-2) Not only do CO2 emissions from commercial flights contribute to air pollution, but ticket costs are also affected by fuel prices and consumption rates.\n",
    "\n",
    "\n",
    "According to an article by the firm McKinsey & Company, between 2005 and 2019 airlines managed to decrease fuel per passenger-kilometer by 39%.<a name=\"cite_ref-1\"></a>[<sup>1</sup>](#cite_note-1) Roughly half of this decrease owes itself to an increase in seat density and percentage of seats per flight sold. Airlines increased the number of passengers per plane by 82% in 2005 and by 88% in 2019.<a name=\"cite_ref-1\"></a>[<sup>1</sup>](#cite_note-1) Next, fleet upgrades account for a little less than half of this decrease in fuel per passenger-kilometer.<a name=\"cite_ref-1\"></a>[<sup>1</sup>](#cite_note-1) As aircrafts have become more aerodynamic, they’ve become more fuel efficient as well. Other factors like route optimization accounts for less than 7% of the improved fuel mileage. As technological advancements slow down, airlines inevitably have begun to hit a plateau in improving fuel efficiency. Likewise, increasing aircraft density can only go so far.\n",
    "\n",
    "Similarly, the paper *Fuel consumption optimization in air transport* by Singh and Sharma examines historical trends of fuel consumption optimization (FCO). They identify four factors that affect fuel consumption: aircraft technology & design, aviation operations & infrastructure, socioeconomic & policy measures, and alternate fuels & fuel properties.<a name=\"cite_ref-4\"></a>[<sup>4</sup>](#cite_note-4) The authors found that “Fuel consumption is one of major direct operating cost parameters in the air transport industry” and accounts for roughly 28% of operating costs, but in the future it may account for as much as 45%.<a name=\"cite_ref-4\"></a>[<sup>4</sup>](#cite_note-4) Similar to the findings of McKinsey, while jet fuel has increased significantly since 2005, fuel efficiency improvements have slowed down since the 1980s. Airline route optimization is incredibly complex, bringing together diverse factors such as aircraft performance, weather, route and regulatory restrictions, luggage and passenger capacity, and global fuel and travel economics.<a name=\"cite_ref-3\"></a>[<sup>3</sup>](#cite_note-3) For the scope of our project, we will be focusing mainly on the relationship between cabin density and fuel consumption per passenger-kilometer. We hope to understand how external factors such as weather also play into fuel consumption and subsequently ticket prices. We hope to study precipitation levels in origin and destination airports, fuel consumption, and ticket prices of those flights. Our goal is to determine whether future aircraft manufacturing efforts should aim to make airplanes more adaptable to poor weather conditions by determining if weather is a factor affecting fuel consumption.\n",
    "\n",
    "\n",
    "1. <a name=\"cite_note-1\"></a> [^](#cite_ref-1) Esqué, A. (2022, March 1) Fuel efficiency: Why airlines need to switch to more ambitious measures. *McKinsey & Company*. https://www.mckinsey.com/industries/aerospace-and-defense/our-insights/future-air-mobility-blog/fuel-efficiency-why-airlines-need-to-switch-to-more-ambitious-measures\n",
    "\n",
    "2. <a name=\"cite_note-2\"></a> [^](#cite_ref-2) Jockims, T. L. (2022, December 19) When searching for a flight, be wary of offers to add your climate impact to the ticket price. *CNBC*. https://www.cnbc.com/2022/12/17/airlines-can-price-climate-change-into-a-plane-ticket-dont-buy-it.html\n",
    "\n",
    "3. <a name=\"cite_note-3\"></a> [^](#cite_ref-3) Kousik, N. V. (2019) Flight plan route optimization and increase the profit in airline industry by using hybrid BCF algorithm. *ICTACT Journal on Communication Technology*. https://ictactjournals.in/paper/IJCT_Vol_10_Iss_3_Paper_1_2019_2023.pdf\n",
    "\n",
    "4. <a name=\"cite_note-4\"></a> [^](#cite_ref-4) Singh, V., Sharma, S.K. (2015) Fuel consumption optimization in air transport: a review, classification, critique, simple meta-analysis, and future researchimpl ications.*European Transport Research Review, 7*(12). https://doi.org/10.1007/s12544-015-0160-x\n"
   ]
  },
  {
   "cell_type": "markdown",
   "metadata": {},
   "source": [
    "# Hypothesis\n"
   ]
  },
  {
   "cell_type": "markdown",
   "metadata": {},
   "source": [
    "Experience suggests that very increased precipitation leads to more frequent encounters with unstable air currents for aircraft, necessitating changes in flight altitude and routes, but small amounts of precipitation probably have little impact on flight routes. This likely results in underestimations of optimal fuel consumption and higher actual fuel usage in extreme weather. To offset the additional operational costs, airlines are expected to raise ticket prices when weather is less predictable (such as in the winter) and fuel consumption is high."
   ]
  },
  {
   "cell_type": "markdown",
   "metadata": {},
   "source": [
    "# Data"
   ]
  },
  {
   "cell_type": "markdown",
   "metadata": {},
   "source": [
    "1. Explain what the **ideal** dataset you would want to answer this question. (This should include: What variables? How many observations? Who/what/how would these data be collected? How would these data be stored/organized?)\n",
    "\n",
    "    The ideal datasets to answer this question would cover daily precipitation levels in origin & destination cities (i.e. Los Angeles and New York City), flight fuel consumption per mile, and average ticket price for that flight. This would be organized in a table, where each entry corresponds to a specific flight between two given cities. One column would have the airline, another would have the average price a passenger on that plane paid for their seat, another would have the fuel consumption per mile which that flight used, and the last two would have the precipitation levels at the origin and destination cities, respectively. We are interested in trends in recent years, so the data only needs to cover the last 5 or so years. While an ideal analysis would look at all flights between the given cities, we may need to restrict our study to the offerings of a few airlines. This means that the number of observations would be close to the number of flights between the given cities in the last 5 years, operated by the top few airlines (United, American Airlines, Delta).\n",
    "2. Search for potential **real** datasets that could provide you with something useful for this project.  You do not have to find every piece of data you will use, but you do need to have demonstrated some idea that (a) this data is gettable and (b) that this data may be different from what your ideal is.\n",
    "- https://www.transtats.bts.gov/fuel.asp This dataset from the U.S. Department of Transportation represents Airline Fuel Cost and Consumption for flights in the U.S. between 2000 and 2023. This may be helpful for looking at how fuel cost affects consumption/efficiency, and vice versa.\n",
    "- https://www.transtats.bts.gov/AverageFare/ This dataset, also from the U.S. Department of Transportation, is a table of Average Domestic Airline Itinerary Fares By Origin City. This can be viewed from 1993 to 2023. While not broken down by specific flight or route, it is a good representation of how fares change over time.\n",
    "- https://www.weather.gov/lox/observations_historical Using this National Weather Service system, we can retrieve daily weather data from a wide range of locations (including specific airports) since 2016. This includes precipitation, temperature, wind, cloud cover, and more.\n",
    "- It was very difficult to find a comprehensive dataset for specific flights over time, especially at a daily granularity. The closest we could find was this month-by-month comparison graph: https://www.faredetective.com/farehistory/flights-from-Los_Angeles-LAX-to-New_York-NYC.html. This would enable us to compare prices over a time scale of a year, but not based on daily weather events or individual flight fuel consumption.\n",
    "- https://www.oag.com/emissions-data This site offers historical flight data including fare and emission data, but is not free/publicly accessible. \n",
    "\n",
    "    Based on the data available, we may need to adjust the granularity of our area of focus to look at large-scale trends of price, fuel consumption, and precipitation rather than comparing individual flights."
   ]
  },
  {
   "cell_type": "markdown",
   "metadata": {},
   "source": [
    "# Ethics & Privacy"
   ]
  },
  {
   "cell_type": "markdown",
   "metadata": {},
   "source": [
    "Since we are looking at airline prices and not individual people, it is not necessary for data used to be anonymized to protect individual privacy. The use of company data will be honest and transparent to prevent unfair representations of any organization. Data sources will be clear, traceable, and publicly available ensuring transparency in the research process for peer review."
   ]
  },
  {
   "cell_type": "markdown",
   "metadata": {},
   "source": [
    "# Team Expectations "
   ]
  },
  {
   "cell_type": "markdown",
   "metadata": {},
   "source": [
    "We will use discord as a means of communication and schedule calls if anything that needs collaborative discussion arises. Our team uses a shared google document and groupwork will usually be split equally between group members if possible. We will also practice good time management to ensure that we are not behind on any work and be flexible to changes in project plans or direction. We will make sure to create a respectful and inclusive team environment. We make sure that all team members fully understand the plans and proposals related to the project, as well as the overall goal of it."
   ]
  },
  {
   "cell_type": "markdown",
   "metadata": {},
   "source": [
    "# Project Timeline Proposal"
   ]
  },
  {
   "cell_type": "markdown",
   "metadata": {},
   "source": [
    "| Week | Goal                                                                 |\n",
    "|------|----------------------------------------------------------------------|\n",
    "| 6    | Identify 2-3 datasets appropriate for addressing research question   |\n",
    "| 7    | Load/clean/tidy/wrangle datasets so they are ready for analysis      |\n",
    "| 8-9  | Exploratory Data Analysis                                            |\n",
    "| 10   | Write Discussion, Conclusion, & Abstract; ensure EDA is well explaind. |"
   ]
  }
 ],
 "metadata": {
  "kernelspec": {
   "display_name": "Python 3 (ipykernel)",
   "language": "python",
   "name": "python3"
  },
  "language_info": {
   "codemirror_mode": {
    "name": "ipython",
    "version": 3
   },
   "file_extension": ".py",
   "mimetype": "text/x-python",
   "name": "python",
   "nbconvert_exporter": "python",
   "pygments_lexer": "ipython3",
   "version": "3.12.1"
  }
 },
 "nbformat": 4,
 "nbformat_minor": 4
}
